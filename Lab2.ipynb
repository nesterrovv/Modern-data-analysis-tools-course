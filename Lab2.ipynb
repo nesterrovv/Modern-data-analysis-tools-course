{
  "nbformat": 4,
  "nbformat_minor": 0,
  "metadata": {
    "colab": {
      "name": "Modern tools of Data Analysis, Lab2, Nesterov",
      "provenance": [],
      "collapsed_sections": []
    },
    "kernelspec": {
      "name": "python3",
      "display_name": "Python 3"
    },
    "language_info": {
      "name": "python"
    }
  },
  "cells": [
    {
      "cell_type": "markdown",
      "metadata": {
        "id": "LF8GjRbUNJXo"
      },
      "source": [
        "# Задание 0 (1 балл)"
      ]
    },
    {
      "cell_type": "markdown",
      "metadata": {
        "id": "JHNIGB9xJihd"
      },
      "source": [
        "Данные, которые нужно использовать для выполнения задания, возьмите [здесь](https://www.kaggle.com/parulpandey/palmer-archipelago-antarctica-penguin-data).\n",
        "\n",
        "Данные расположены в двух таблицах: **penguins_iter** и **penguiuns_size**. Для этой лабораторной работы вам понадобится только таблица **penguiuns_size**.\n",
        "\n",
        "**penguins_size** содержит следующую информацию:\n",
        "* `species`: вид, к которому относится пингвин\n",
        "* `culmen_length_mm`: длина клюва\n",
        "* `culmen_depth_mm`: глубина клюва\n",
        "* `flipper_length_mm`: длина ласт\n",
        "* `body_mass_g`: масса тела\n",
        "* `island`: название острова, на котором пингвин обитает\n",
        "* `sex`: пол пингвина\n",
        "\n"
      ]
    },
    {
      "cell_type": "markdown",
      "metadata": {
        "id": "mY64YTl_M8Ch"
      },
      "source": [
        "1. Загрузите файл с данными к себе на Гугл диск и подключите его в Google Colab через `mount.drive`.\n",
        "2. Выведите общую статистику по всем числовым и нечисловым столбцам с помощью функции `describe()`.\n",
        "3. Узнайте размеры датасета с помощью функции `shape`.\n",
        "4. Выведите 4 первые строки датасета."
      ]
    },
    {
      "cell_type": "code",
      "metadata": {
        "id": "jGJgLRDXNGjN",
        "colab": {
          "base_uri": "https://localhost:8080/"
        },
        "outputId": "ee6da16b-97ef-4faa-ae62-412201fc5c13"
      },
      "source": [
        "import pandas as pd\n",
        "from google.colab import drive\n",
        "drive.mount('/content/drive/')\n",
        "ping = pd.read_csv(\"/content/drive/MyDrive/Colab Notebooks/penguins_size.csv\", sep = ',')\n",
        "print(ping.describe(), \"\\n\")\n",
        "print(\"Dataset size:\", ping.shape, \"\\n\")\n",
        "print(ping.head(4))"
      ],
      "execution_count": null,
      "outputs": [
        {
          "output_type": "stream",
          "name": "stdout",
          "text": [
            "Mounted at /content/drive/\n",
            "       culmen_length_mm  culmen_depth_mm  flipper_length_mm  body_mass_g\n",
            "count        342.000000       342.000000         342.000000   342.000000\n",
            "mean          43.921930        17.151170         200.915205  4201.754386\n",
            "std            5.459584         1.974793          14.061714   801.954536\n",
            "min           32.100000        13.100000         172.000000  2700.000000\n",
            "25%           39.225000        15.600000         190.000000  3550.000000\n",
            "50%           44.450000        17.300000         197.000000  4050.000000\n",
            "75%           48.500000        18.700000         213.000000  4750.000000\n",
            "max           59.600000        21.500000         231.000000  6300.000000 \n",
            "\n",
            "Dataset size: (344, 7) \n",
            "\n",
            "  species     island  culmen_length_mm  ...  flipper_length_mm  body_mass_g     sex\n",
            "0  Adelie  Torgersen              39.1  ...              181.0       3750.0    MALE\n",
            "1  Adelie  Torgersen              39.5  ...              186.0       3800.0  FEMALE\n",
            "2  Adelie  Torgersen              40.3  ...              195.0       3250.0  FEMALE\n",
            "3  Adelie  Torgersen               NaN  ...                NaN          NaN     NaN\n",
            "\n",
            "[4 rows x 7 columns]\n"
          ]
        }
      ]
    },
    {
      "cell_type": "markdown",
      "metadata": {
        "id": "5YqJrXCxIxuI"
      },
      "source": [
        "# Задание 1 (1 балл)"
      ]
    },
    {
      "cell_type": "markdown",
      "metadata": {
        "id": "fDuzlPwPOWzv"
      },
      "source": [
        "1. Узнайте, сколько видов пингвинов представлено в таблице.\n",
        "2. Посчитайте долю пингвинов каждого вида. "
      ]
    },
    {
      "cell_type": "code",
      "metadata": {
        "id": "RqURVZSOIvfO",
        "colab": {
          "base_uri": "https://localhost:8080/"
        },
        "outputId": "1ab52493-2be1-45d0-ad6d-ed84956822d5"
      },
      "source": [
        "import pandas as pd\n",
        "import numpy as np\n",
        "ping = pd.read_csv(\"/content/drive/MyDrive/Colab Notebooks/penguins_size.csv\", sep = ',')\n",
        "species = np.unique(ping[['species']].values)\n",
        "print(\"Amount of penguin species =\", species.size)\n",
        "ping.species.value_counts(normalize=True)"
      ],
      "execution_count": null,
      "outputs": [
        {
          "output_type": "stream",
          "name": "stdout",
          "text": [
            "Amount of penguin species = 3\n"
          ]
        },
        {
          "output_type": "execute_result",
          "data": {
            "text/plain": [
              "Adelie       0.441860\n",
              "Gentoo       0.360465\n",
              "Chinstrap    0.197674\n",
              "Name: species, dtype: float64"
            ]
          },
          "metadata": {},
          "execution_count": 39
        }
      ]
    },
    {
      "cell_type": "markdown",
      "metadata": {
        "id": "N7mTAMM4VIqY"
      },
      "source": [
        "# Задание 2 (1 балл)"
      ]
    },
    {
      "cell_type": "markdown",
      "metadata": {
        "id": "jVwfcjouVIqZ"
      },
      "source": [
        "1. Сколько островов, на которых обитают пингвины, представлено в таблице?\n",
        "2. Выведите количество пингвинов, обитающих на каждом из островов."
      ]
    },
    {
      "cell_type": "code",
      "metadata": {
        "id": "uoSg92FEVIqZ",
        "colab": {
          "base_uri": "https://localhost:8080/"
        },
        "outputId": "ceceaf9b-f326-474a-c24d-312c0cd06d44"
      },
      "source": [
        "import pandas as pd\n",
        "import numpy as np\n",
        "ping = pd.read_csv(\"/content/drive/MyDrive/Colab Notebooks/penguins_size.csv\", sep = ',')\n",
        "print(\"Amount of penguins =\", ping.island.size)\n",
        "for i in ping.island.unique():\n",
        "    k = 0\n",
        "    for j in ping.island:\n",
        "        if (i == j):\n",
        "            k += 1\n",
        "    print(\"Amount of penguins in\", i, \"island =\", k)"
      ],
      "execution_count": null,
      "outputs": [
        {
          "output_type": "stream",
          "name": "stdout",
          "text": [
            "Amount of penguins = 344\n",
            "Amount of penguins in Torgersen island = 52\n",
            "Amount of penguins in Biscoe island = 168\n",
            "Amount of penguins in Dream island = 124\n"
          ]
        }
      ]
    },
    {
      "cell_type": "markdown",
      "metadata": {
        "id": "j1NfVIONI2dW"
      },
      "source": [
        "# Задание 3 (1 балл)"
      ]
    },
    {
      "cell_type": "markdown",
      "metadata": {
        "id": "fSXbSRCZOsgg"
      },
      "source": [
        "1. Найдите id пингвина с самым длинным клювом и с самым коротким. Выведите всю информацию о каждом из этих пингвинов в виде таблицы.\n",
        "2. Посчитайте, насколько самый длинный клюв длиннее самого короткого."
      ]
    },
    {
      "cell_type": "code",
      "metadata": {
        "id": "dch9AAIrI2dZ",
        "colab": {
          "base_uri": "https://localhost:8080/"
        },
        "outputId": "085ca5d4-5a8c-45b8-e856-2f487d1df79d"
      },
      "source": [
        "import pandas as pd\n",
        "import numpy as np\n",
        "ping = pd.read_csv(\"/content/drive/MyDrive/Colab Notebooks/penguins_size.csv\", sep = ',')\n",
        "print(\"Id of longest beak =\", ping.culmen_length_mm.idxmax())\n",
        "print(ping.nlargest(1, 'culmen_length_mm'), \"\\n\")\n",
        "print(\"Id of shortest beak =\", ping.culmen_length_mm.idxmin())\n",
        "print(ping.nsmallest(1, 'culmen_length_mm'), \"\\n\")\n",
        "print(\"Beak length difference =\", ping.culmen_length_mm.max() - ping.culmen_length_mm.min())"
      ],
      "execution_count": null,
      "outputs": [
        {
          "output_type": "stream",
          "name": "stdout",
          "text": [
            "Id of longest beak = 253\n",
            "    species  island  culmen_length_mm  ...  flipper_length_mm  body_mass_g   sex\n",
            "253  Gentoo  Biscoe              59.6  ...              230.0       6050.0  MALE\n",
            "\n",
            "[1 rows x 7 columns] \n",
            "\n",
            "Id of shortest beak = 142\n",
            "    species island  culmen_length_mm  ...  flipper_length_mm  body_mass_g     sex\n",
            "142  Adelie  Dream              32.1  ...              188.0       3050.0  FEMALE\n",
            "\n",
            "[1 rows x 7 columns] \n",
            "\n",
            "Beak length difference = 27.5\n"
          ]
        }
      ]
    },
    {
      "cell_type": "markdown",
      "metadata": {
        "id": "gQd_Jgn2I2lL"
      },
      "source": [
        "# Задание 4 (1.5 балла)"
      ]
    },
    {
      "cell_type": "markdown",
      "metadata": {
        "id": "ymI_48D_PddK"
      },
      "source": [
        "1. Найдите среднее соотношение между длиной и глубиной клюва.\n",
        "2. Найдите среднее соотношение между массой тела пингвина и длиной его ласт.\n",
        "3. Постройте корреляционную матрицу для значений столбцов `culmen_length_mm`, `culmen_depth_mm`, `flipper_length_mm`, `body_mass_g`."
      ]
    },
    {
      "cell_type": "code",
      "metadata": {
        "id": "NliQL8sUI2lO",
        "colab": {
          "base_uri": "https://localhost:8080/",
          "height": 222
        },
        "outputId": "d7e06685-690c-4fc9-845f-b08eaaa78729"
      },
      "source": [
        "import pandas as pd\n",
        "import numpy as np\n",
        "ping = pd.read_csv(\"/content/drive/MyDrive/Colab Notebooks/penguins_size.csv\", sep = ',')\n",
        "print(\"1.\", ping.mean()[0]/ping.mean()[1])\n",
        "print(\"2.\", ping.mean()[3]/ping.mean()[2])\n",
        "print(\"Correlation matrix:\")\n",
        "ping.corr()"
      ],
      "execution_count": null,
      "outputs": [
        {
          "output_type": "stream",
          "name": "stdout",
          "text": [
            "1. 2.5608708253064427\n",
            "2. 20.91307321758619\n",
            "Correlation matrix:\n"
          ]
        },
        {
          "output_type": "execute_result",
          "data": {
            "text/html": [
              "<div>\n",
              "<style scoped>\n",
              "    .dataframe tbody tr th:only-of-type {\n",
              "        vertical-align: middle;\n",
              "    }\n",
              "\n",
              "    .dataframe tbody tr th {\n",
              "        vertical-align: top;\n",
              "    }\n",
              "\n",
              "    .dataframe thead th {\n",
              "        text-align: right;\n",
              "    }\n",
              "</style>\n",
              "<table border=\"1\" class=\"dataframe\">\n",
              "  <thead>\n",
              "    <tr style=\"text-align: right;\">\n",
              "      <th></th>\n",
              "      <th>culmen_length_mm</th>\n",
              "      <th>culmen_depth_mm</th>\n",
              "      <th>flipper_length_mm</th>\n",
              "      <th>body_mass_g</th>\n",
              "    </tr>\n",
              "  </thead>\n",
              "  <tbody>\n",
              "    <tr>\n",
              "      <th>culmen_length_mm</th>\n",
              "      <td>1.000000</td>\n",
              "      <td>-0.235053</td>\n",
              "      <td>0.656181</td>\n",
              "      <td>0.595110</td>\n",
              "    </tr>\n",
              "    <tr>\n",
              "      <th>culmen_depth_mm</th>\n",
              "      <td>-0.235053</td>\n",
              "      <td>1.000000</td>\n",
              "      <td>-0.583851</td>\n",
              "      <td>-0.471916</td>\n",
              "    </tr>\n",
              "    <tr>\n",
              "      <th>flipper_length_mm</th>\n",
              "      <td>0.656181</td>\n",
              "      <td>-0.583851</td>\n",
              "      <td>1.000000</td>\n",
              "      <td>0.871202</td>\n",
              "    </tr>\n",
              "    <tr>\n",
              "      <th>body_mass_g</th>\n",
              "      <td>0.595110</td>\n",
              "      <td>-0.471916</td>\n",
              "      <td>0.871202</td>\n",
              "      <td>1.000000</td>\n",
              "    </tr>\n",
              "  </tbody>\n",
              "</table>\n",
              "</div>"
            ],
            "text/plain": [
              "                   culmen_length_mm  ...  body_mass_g\n",
              "culmen_length_mm           1.000000  ...     0.595110\n",
              "culmen_depth_mm           -0.235053  ...    -0.471916\n",
              "flipper_length_mm          0.656181  ...     0.871202\n",
              "body_mass_g                0.595110  ...     1.000000\n",
              "\n",
              "[4 rows x 4 columns]"
            ]
          },
          "metadata": {},
          "execution_count": 46
        }
      ]
    },
    {
      "cell_type": "markdown",
      "metadata": {
        "id": "iec_syqwI20p"
      },
      "source": [
        "# Задание 5 (1 балл)"
      ]
    },
    {
      "cell_type": "markdown",
      "metadata": {
        "id": "XixgeBv_QAGx"
      },
      "source": [
        "1. О пингвинах какого вида в таблице больше всего недостающих данных? (Строк с `NaN`)\n",
        "2. Какой информации о пингвинах чаще всего не хватает?"
      ]
    },
    {
      "cell_type": "code",
      "metadata": {
        "id": "YvjhDawkI20q",
        "colab": {
          "base_uri": "https://localhost:8080/"
        },
        "outputId": "2b6470ed-ceff-44b8-b7d9-38ef50a3c9f5"
      },
      "source": [
        "import pandas as pd\n",
        "import numpy as np\n",
        "ping = pd.read_csv(\"/content/drive/MyDrive/Colab Notebooks/penguins_size.csv\", sep = ',')\n",
        "species = ping[\"species\"].unique()\n",
        "print(\"List of pinguin species in this dataframe:\", species)\n",
        "counter = [0,0,0]\n",
        "for index, row in ping.iterrows():\n",
        "  amount_of_NaN = ping.loc[[index]].isna().sum().sum()\n",
        "  if row[\"species\"] == \"Adelie\":\n",
        "    counter[0] += amount_of_NaN\n",
        "  if row[\"species\"] == \"Chinstrap\":\n",
        "    counter[1] += amount_of_NaN\n",
        "  if row[\"species\"] == \"Gentoo\":\n",
        "    counter[2] += amount_of_NaN\n",
        "print(\"1st task:\")\n",
        "print(\"Amount of unknown data for Adelie pinguins:\", counter[0])\n",
        "print(\"Amount of unknown data for Chinstrap pinguins:\", counter[1])\n",
        "print(\"Amount of unknown data for Gentoo pinguins:\", counter[2])\n",
        "print(\"2nd task:\")\n",
        "print(\"The most missing data in the column:\", ping.isnull().sum(axis=0).idxmax())"
      ],
      "execution_count": null,
      "outputs": [
        {
          "output_type": "stream",
          "name": "stdout",
          "text": [
            "List of pinguin species in this dataframe: ['Adelie' 'Chinstrap' 'Gentoo']\n",
            "1st task:\n",
            "Amount of unknown data for Adelie pinguins: 10\n",
            "Amount of unknown data for Chinstrap pinguins: 0\n",
            "Amount of unknown data for Gentoo pinguins: 8\n",
            "2nd task:\n",
            "The most missing data in the column: sex\n"
          ]
        }
      ]
    },
    {
      "cell_type": "markdown",
      "metadata": {
        "id": "KL8kIQMdI28Z"
      },
      "source": [
        "# Задание 6 (1 балл)"
      ]
    },
    {
      "cell_type": "markdown",
      "metadata": {
        "id": "Ielz_bg9QPyB"
      },
      "source": [
        "По данным из таблицы узнайте, как по размеру клюва, ласт и общей массе тела мужские особи отличаются от женских. Ответ по каждому признаку усредните."
      ]
    },
    {
      "cell_type": "code",
      "metadata": {
        "id": "JQxlzePMI28a",
        "colab": {
          "base_uri": "https://localhost:8080/"
        },
        "outputId": "1f21664b-9785-40c5-9fec-3609786bad4c"
      },
      "source": [
        "import pandas as pd\n",
        "import numpy as np\n",
        "ping = pd.read_csv(\"/content/drive/MyDrive/Colab Notebooks/penguins_size.csv\", sep = ',')\n",
        "size_of_male_beak, size_of_male_flippers, male_mass = 0, 0, 0\n",
        "size_of_female_beak, size_of_female_flippers, female_mass = 0, 0, 0\n",
        "male_amount, female_amount = 0, 0\n",
        "for index, row in ping.iterrows():\n",
        "  if row[\"sex\"] == \"MALE\":\n",
        "    size_of_male_beak += row[\"culmen_length_mm\"]\n",
        "    size_of_male_flippers += row[\"flipper_length_mm\"]\n",
        "    male_mass += row[\"body_mass_g\"]\n",
        "    male_amount += 1\n",
        "  if row[\"sex\"] == \"FEMALE\":\n",
        "    size_of_female_beak += row[\"culmen_length_mm\"]\n",
        "    size_of_female_flippers += row[\"flipper_length_mm\"]\n",
        "    female_mass += row[\"body_mass_g\"]\n",
        "    female_amount += 1\n",
        "print(\"Average characteristics for males:\")\n",
        "print(\"Average culmen length:\", size_of_male_beak/male_amount, \"mm\")\n",
        "print(\"Average flipper length:\", size_of_male_flippers/male_amount, \"mm\")\n",
        "print(\"Average mass: \", male_mass/male_amount, \"g\")\n",
        "print(\"\\n\")\n",
        "print(\"Average characteristics for females:\")\n",
        "print(\"Average culmen length:\", size_of_female_beak/female_amount, \"mm\")\n",
        "print(\"Average flipper length:\", size_of_female_flippers/female_amount, \"mm\")\n",
        "print(\"Average mass: \", female_mass/female_amount, \"g\")\n",
        "  \n",
        "  "
      ],
      "execution_count": null,
      "outputs": [
        {
          "output_type": "stream",
          "name": "stdout",
          "text": [
            "Average characteristics for males:\n",
            "Average culmen length: 45.854761904761894 mm\n",
            "Average flipper length: 204.50595238095238 mm\n",
            "Average mass:  4545.684523809524 g\n",
            "\n",
            "\n",
            "Average characteristics for females:\n",
            "Average culmen length: 42.09696969696968 mm\n",
            "Average flipper length: 197.36363636363637 mm\n",
            "Average mass:  3862.2727272727275 g\n"
          ]
        }
      ]
    },
    {
      "cell_type": "markdown",
      "metadata": {
        "id": "UG5AAwX7I3Eh"
      },
      "source": [
        "# Задание 7 (1 балл)"
      ]
    },
    {
      "cell_type": "markdown",
      "metadata": {
        "id": "lN06XT2gQv-L"
      },
      "source": [
        "По данным из таблицы узнайте, равномерно ли демографиески (процент мужских и женских особей) пингвины распределены по каждому из островов."
      ]
    },
    {
      "cell_type": "code",
      "metadata": {
        "id": "XE0kXrP3I3Ei",
        "colab": {
          "base_uri": "https://localhost:8080/"
        },
        "outputId": "207c34ee-e02f-45a3-8fef-5598b93ede54"
      },
      "source": [
        "import pandas as pd\n",
        "import numpy as np\n",
        "ping = pd.read_csv(\"/content/drive/MyDrive/Colab Notebooks/penguins_size.csv\", sep = ',')\n",
        "islands = ping[\"island\"].unique()\n",
        "print(\"List of islands in this dataframe:\", islands)\n",
        "male_counter_1, female_counter_1, total_1 = 0, 0, 0\n",
        "male_counter_2, female_counter_2, total_2 = 0, 0, 0\n",
        "male_counter_3, female_counter_3, total_3 = 0, 0, 0\n",
        "for index, row in ping.iterrows():\n",
        "  if row[\"island\"] == \"Torgersen\":\n",
        "    total_1 += 1\n",
        "    if row[\"sex\"] == \"MALE\":\n",
        "      male_counter_1 += 1\n",
        "    if row[\"sex\"] == \"FEMALE\":\n",
        "      female_counter_1 += 1\n",
        "  if row[\"island\"] == \"Biscoe\":\n",
        "    total_2 += 1\n",
        "    if row[\"sex\"] == \"MALE\":\n",
        "      male_counter_2 += 1\n",
        "    if row[\"sex\"] == \"FEMALE\":\n",
        "      female_counter_2 += 1\n",
        "  if row[\"island\"] == \"Dream\":\n",
        "    total_3 += 1\n",
        "    if row[\"sex\"] == \"MALE\":\n",
        "      male_counter_3 += 1\n",
        "    if row[\"sex\"] == \"FEMALE\":\n",
        "      female_counter_3 += 1\n",
        "\n",
        "print(\"Statistics for Torgersen Island:\")\n",
        "print(\"Male:\", male_counter_1/total_1)\n",
        "print(\"Female:\", female_counter_1/total_1)\n",
        "print(\"Share of unknown data:\", 1 -  male_counter_1/total_1 - female_counter_1/total_1)\n",
        "print(\"\\n\")\n",
        "print(\"Statistics for Biscoe Island:\")\n",
        "print(\"Male:\", male_counter_2/total_2)\n",
        "print(\"Female:\", female_counter_2/total_2)\n",
        "print(\"Share of unknown data:\", 1 -  male_counter_2/total_2 - female_counter_2/total_2)\n",
        "print(\"\\n\")\n",
        "print(\"Statistics for Dream Island:\")\n",
        "print(\"Male:\", male_counter_3/total_3)\n",
        "print(\"Female:\", female_counter_3/total_3)\n",
        "print(\"Amount of unknown data:\", 1 -  male_counter_3/total_3 - female_counter_3/total_3)\n"
      ],
      "execution_count": null,
      "outputs": [
        {
          "output_type": "stream",
          "name": "stdout",
          "text": [
            "List of islands in this dataframe: ['Torgersen' 'Biscoe' 'Dream']\n",
            "Statistics for Torgersen Island:\n",
            "Male: 0.4423076923076923\n",
            "Female: 0.46153846153846156\n",
            "Share of unknown data: 0.09615384615384615\n",
            "\n",
            "\n",
            "Statistics for Biscoe Island:\n",
            "Male: 0.49404761904761907\n",
            "Female: 0.47619047619047616\n",
            "Share of unknown data: 0.029761904761904767\n",
            "\n",
            "\n",
            "Statistics for Dream Island:\n",
            "Male: 0.5\n",
            "Female: 0.49193548387096775\n",
            "Amount of unknown data: 0.008064516129032251\n"
          ]
        }
      ]
    },
    {
      "cell_type": "markdown",
      "metadata": {
        "id": "j0J6p25sI3MU"
      },
      "source": [
        "# Задание 8 (1.5 балла)"
      ]
    },
    {
      "cell_type": "markdown",
      "metadata": {
        "id": "f4aax6eARC9D"
      },
      "source": [
        "1. Узнайте, к какому виду принадлежат самые крупные по массе тела пингвины.\n",
        "2. В каком количестве популяция этого вида представлена на каждом из островов?\n",
        "3. Равное ли соотношение мужских и женских особей этого вида?"
      ]
    },
    {
      "cell_type": "code",
      "metadata": {
        "id": "de8g7fqQI3MV",
        "colab": {
          "base_uri": "https://localhost:8080/"
        },
        "outputId": "a8f13d40-3bae-4734-aecb-f6644c5b1b96"
      },
      "source": [
        "import pandas as pd\n",
        "import numpy as np\n",
        "from math import isnan\n",
        "ping = pd.read_csv(\"/content/drive/MyDrive/Colab Notebooks/penguins_size.csv\", sep = ',')\n",
        "species = ping[\"species\"].unique()\n",
        "print(\"List of pinguin species in this dataframe:\", species)\n",
        "mass1, mass2, mass3 = 0, 0, 0\n",
        "total_weight_1, total_weight_2, total_weight_3 = 0, 0, 0\n",
        "counter1, counter2, counter3 = 0, 0, 0\n",
        "island_counter1, island_counter2, island_counter3 = 0, 0, 0\n",
        "male_counter, female_counter = 0, 0\n",
        "specie = 0\n",
        "for index, row in ping.iterrows():\n",
        "  if row[\"species\"] == \"Adelie\":\n",
        "    if not pd.isna(row[\"body_mass_g\"]):\n",
        "      mass1 += row[\"body_mass_g\"]\n",
        "    counter1 += 1\n",
        "  if row[\"species\"] == \"Chinstrap\":\n",
        "    if not pd.isna(row[\"body_mass_g\"]):\n",
        "      mass2 += row[\"body_mass_g\"]\n",
        "    counter2 += 1\n",
        "  if row[\"species\"] == \"Gentoo\":\n",
        "    if not pd.isna(row[\"body_mass_g\"]):\n",
        "      mass3 += row[\"body_mass_g\"]\n",
        "    counter3 += 1\n",
        "total_weight_1 = mass1 / counter1\n",
        "total_weight_2 = mass2 / counter2\n",
        "total_weight_3 = mass3 / counter3\n",
        "max_weight = max(total_weight_1, max(total_weight_2, total_weight_3))\n",
        "if max_weight == total_weight_1:\n",
        "  print(\"Penguin specie with biggest mass is Adelie. Average mass is\", max_weight, \"g\")\n",
        "  specie = \"Adeilie\"\n",
        "if max_weight == total_weight_2:\n",
        "  print(\"Penguin specie with biggest mass is Chinstrap. Average mass is\", max_weight, \"g\")\n",
        "  specie = \"Chinstrap\"\n",
        "if max_weight == total_weight_3:\n",
        "  print(\"Penguin specie with biggest mass is Gentoo. Average mass is\", max_weight, \"g\")\n",
        "  specie = \"Gentoo\"\n",
        "for index, row in ping.iterrows():\n",
        "  if row[\"island\"] == \"Torgersen\":\n",
        "    if row[\"species\"] == specie:\n",
        "      island_counter1 += 1\n",
        "  if row[\"island\"] == \"Biscoe\":\n",
        "    if row[\"species\"] == specie:\n",
        "      island_counter2 += 1\n",
        "  if row[\"island\"] == \"Dream\":\n",
        "    if row[\"species\"] == specie:\n",
        "      island_counter3 += 1\n",
        "print(\"Distribution of penguins of this species by islands:\")\n",
        "print(\"Torgersen island:\", island_counter1)\n",
        "print(\"Biscoe island:\", island_counter2)\n",
        "print(\"Dream island:\", island_counter3)\n",
        "for index, row in ping.iterrows():\n",
        "  if row[\"species\"] == specie:\n",
        "    if row[\"sex\"] == \"MALE\":\n",
        "      male_counter += 1\n",
        "    if row[\"sex\"] == \"FEMALE\":\n",
        "      female_counter += 1\n",
        "print(\"Distribution of penguins of this species by sex:\")\n",
        "print(\"Male:\", male_counter)\n",
        "print(\"Female:\", female_counter) "
      ],
      "execution_count": null,
      "outputs": [
        {
          "output_type": "stream",
          "name": "stdout",
          "text": [
            "List of pinguin species in this dataframe: ['Adelie' 'Chinstrap' 'Gentoo']\n",
            "Penguin specie with biggest mass is Gentoo. Average mass is 5035.080645161291 g\n",
            "Distribution of penguins of this species by islands:\n",
            "Torgersen island: 0\n",
            "Biscoe island: 124\n",
            "Dream island: 0\n",
            "Distribution of penguins of this species by sex:\n",
            "Male: 61\n",
            "Female: 58\n"
          ]
        }
      ]
    },
    {
      "cell_type": "code",
      "metadata": {
        "id": "ooVewrSIi8XT"
      },
      "source": [
        ""
      ],
      "execution_count": null,
      "outputs": []
    }
  ]
}